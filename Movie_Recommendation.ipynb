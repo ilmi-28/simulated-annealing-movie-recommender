{
  "nbformat": 4,
  "nbformat_minor": 0,
  "metadata": {
    "colab": {
      "provenance": []
    },
    "kernelspec": {
      "name": "python3",
      "display_name": "Python 3"
    },
    "language_info": {
      "name": "python"
    }
  },
  "cells": [
    {
      "cell_type": "code",
      "execution_count": null,
      "metadata": {
        "id": "-Nu6fCEospqG"
      },
      "outputs": [],
      "source": [
        "import random\n",
        "import math\n",
        "import matplotlib.pyplot as plt"
      ]
    },
    {
      "cell_type": "code",
      "source": [
        "# movie dataset with genres and ratings\n",
        "movies = {\n",
        "    \"Avengers\": {\"rating\": 8.3, \"genres\": {\"Action\": 0.9, \"Sci-Fi\": 0.7}},\n",
        "    \"Titanic\": {\"rating\": 7.8, \"genres\": {\"Drama\": 0.9}},\n",
        "    \"Captain Marvel\": {\"rating\": 6.9, \"genres\": {\"Action\": 0.8, \"Sci-Fi\": 0.6}},\n",
        "    \"Iron Man\": {\"rating\": 7.9, \"genres\": {\"Action\": 0.8, \"Sci-Fi\": 0.5}},\n",
        "    \"Fanaa\": {\"rating\": 7.2, \"genres\": {\"Drama\": 0.8, \"Romance\": 0.9}},\n",
        "    \"Harry Potter\": {\"rating\": 8.1, \"genres\": {\"Fantasy\": 0.9, \"Adventure\": 0.8}},\n",
        "    \"Diary of a Wimpy Kid\": {\"rating\": 6.3, \"genres\": {\"Comedy\": 0.7, \"Family\": 0.8}},\n",
        "    \"Our Secret Diary\": {\"rating\": 7.0, \"genres\": {\"Drama\": 0.6, \"Romance\": 0.7}},\n",
        "    \"12th Fail\": {\"rating\": 8.0, \"genres\": {\"Drama\": 0.9, \"Inspirational\": 0.8}},\n",
        "    \"The Lord of the Rings\": {\"rating\": 8.9, \"genres\": {\"Fantasy\": 1.0, \"Adventure\": 0.9}},\n",
        "}"
      ],
      "metadata": {
        "id": "K3MG0FuV_5US"
      },
      "execution_count": null,
      "outputs": []
    },
    {
      "cell_type": "code",
      "source": [
        "# User-defined preferences for genres\n",
        "user_preferences = {\"Sci-Fi\": 0.7, \"Action\": 0.6, \"Drama\": 0.3}"
      ],
      "metadata": {
        "id": "2HDjSzohADrw"
      },
      "execution_count": null,
      "outputs": []
    },
    {
      "cell_type": "code",
      "source": [
        "# Calculate the recommendation score for a given movie\n",
        "def recommendation_score(movie_name, preferences):\n",
        "    movie_data = movies[movie_name]\n",
        "    score = sum(\n",
        "        preferences[genre] * movie_data[\"genres\"].get(genre, 0)\n",
        "        for genre in preferences\n",
        "    )\n",
        "    return score * movie_data[\"rating\"]"
      ],
      "metadata": {
        "id": "IA-QRbM1AKzu"
      },
      "execution_count": null,
      "outputs": []
    },
    {
      "cell_type": "code",
      "source": [
        "# Fitness function: Maximize total recommendation score\n",
        "def fitness(solution):\n",
        "    return sum(recommendation_score(movie, user_preferences) for movie in solution)"
      ],
      "metadata": {
        "id": "_hRvjwwDAQCW"
      },
      "execution_count": null,
      "outputs": []
    },
    {
      "cell_type": "code",
      "source": [
        "# Generate initial random solution\n",
        "def random_solution():\n",
        "    return random.sample(movies.keys(), k=6)  # Recommend 6 movies"
      ],
      "metadata": {
        "id": "GZr-770wAWJv"
      },
      "execution_count": null,
      "outputs": []
    },
    {
      "cell_type": "code",
      "source": [
        "# Generate a solution by swapping a movie\n",
        "def neighbor_solution(solution):\n",
        "    new_solution = solution[:]\n",
        "    replace_idx = random.randint(0, len(solution) - 1)\n",
        "    new_movie = random.choice([m for m in movies.keys() if m not in solution])\n",
        "    new_solution[replace_idx] = new_movie\n",
        "    return new_solution"
      ],
      "metadata": {
        "id": "BQwooFh-AfEB"
      },
      "execution_count": null,
      "outputs": []
    },
    {
      "cell_type": "code",
      "source": [
        "# Simulated Annealing Algorithm\n",
        "def simulated_annealing(start_temp, end_temp, alpha):\n",
        "    current_solution = random_solution()\n",
        "    current_fitness = fitness(current_solution)\n",
        "    temp = start_temp\n",
        "\n",
        "    while temp > end_temp:\n",
        "        new_solution = neighbor_solution(current_solution)\n",
        "        new_fitness = fitness(new_solution)\n",
        "        if new_fitness > current_fitness or random.random() < math.exp((new_fitness - current_fitness) / temp):\n",
        "            current_solution, current_fitness = new_solution, new_fitness\n",
        "        temp *= alpha  # Reduce temperature\n",
        "\n",
        "    return current_solution, current_fitness"
      ],
      "metadata": {
        "id": "pfc9dHjJAt8k"
      },
      "execution_count": null,
      "outputs": []
    },
    {
      "cell_type": "code",
      "source": [
        "# Run the algorithm\n",
        "best_solution, best_fitness = simulated_annealing(start_temp=100, end_temp=0.01, alpha=0.95)"
      ],
      "metadata": {
        "colab": {
          "base_uri": "https://localhost:8080/"
        },
        "id": "QlOcKgWSAzdJ",
        "outputId": "4b0d4b28-1d8b-4197-d2e5-240d49ceb92d"
      },
      "execution_count": null,
      "outputs": [
        {
          "output_type": "stream",
          "name": "stderr",
          "text": [
            "<ipython-input-6-2c00603417b7>:3: DeprecationWarning: Sampling from a set deprecated\n",
            "since Python 3.9 and will be removed in a subsequent version.\n",
            "  return random.sample(movies.keys(), k=6)  # Recommend 6 movies\n"
          ]
        }
      ]
    },
    {
      "cell_type": "code",
      "source": [
        "# Display Results\n",
        "print(\"Optimal Movie Recommendations:\")\n",
        "for movie in best_solution:\n",
        "    print(f\"- {movie} (Score: {recommendation_score(movie, user_preferences):.2f})\")\n",
        "print(f\"Total Recommendation Score: {best_fitness:.2f}\")"
      ],
      "metadata": {
        "id": "Wy0ixMSXA_e7",
        "outputId": "1e9785cf-36fa-41d0-98a8-8bede0b376bd",
        "colab": {
          "base_uri": "https://localhost:8080/"
        }
      },
      "execution_count": null,
      "outputs": [
        {
          "output_type": "stream",
          "name": "stdout",
          "text": [
            "Optimal Movie Recommendations:\n",
            "- Avengers (Score: 8.55)\n",
            "- Captain Marvel (Score: 6.21)\n",
            "- Fanaa (Score: 1.73)\n",
            "- 12th Fail (Score: 2.16)\n",
            "- Titanic (Score: 2.11)\n",
            "- Iron Man (Score: 6.56)\n",
            "Total Recommendation Score: 27.31\n"
          ]
        }
      ]
    },
    {
      "cell_type": "code",
      "source": [
        "# Bar Chart of Recommendation Scores\n",
        "movie_scores = [recommendation_score(movie, user_preferences) for movie in best_solution]\n",
        "plt.bar(best_solution, movie_scores, color=\"skyblue\")\n",
        "plt.xlabel(\"Movies\")\n",
        "plt.ylabel(\"Recommendation Score\")\n",
        "plt.title(\"Recommended Movies and Their Scores\")\n",
        "plt.xticks(rotation=45, ha=\"right\")\n",
        "plt.tight_layout()\n",
        "plt.show()"
      ],
      "metadata": {
        "id": "ylxiqYjABDna",
        "outputId": "87dbf6a9-c137-45bd-da4a-290012304588",
        "colab": {
          "base_uri": "https://localhost:8080/",
          "height": 487
        }
      },
      "execution_count": null,
      "outputs": [
        {
          "output_type": "display_data",
          "data": {
            "text/plain": [
              "<Figure size 640x480 with 1 Axes>"
            ],
            "image/png": "[encoded data removed]"
          },
          "metadata": {}
        }
      ]
    }
  ]
}